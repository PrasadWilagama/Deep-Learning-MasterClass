{
 "cells": [
  {
   "cell_type": "code",
   "execution_count": 2,
   "id": "independent-syracuse",
   "metadata": {},
   "outputs": [],
   "source": [
    "import numpy as np"
   ]
  },
  {
   "cell_type": "code",
   "execution_count": 3,
   "id": "bronze-extension",
   "metadata": {},
   "outputs": [],
   "source": [
    "a = np.array([1,2,3,3,4,5,8,5,10,20,1])"
   ]
  },
  {
   "cell_type": "code",
   "execution_count": 4,
   "id": "departmental-marsh",
   "metadata": {},
   "outputs": [],
   "source": [
    "x = np.where(a == 1)"
   ]
  },
  {
   "cell_type": "code",
   "execution_count": 6,
   "id": "sharing-wisdom",
   "metadata": {},
   "outputs": [],
   "source": [
    "y = np.where(a == 4)"
   ]
  },
  {
   "cell_type": "code",
   "execution_count": 5,
   "id": "colored-surrey",
   "metadata": {},
   "outputs": [
    {
     "data": {
      "text/plain": [
       "(array([ 0, 10], dtype=int64),)"
      ]
     },
     "execution_count": 5,
     "metadata": {},
     "output_type": "execute_result"
    }
   ],
   "source": [
    "x"
   ]
  },
  {
   "cell_type": "code",
   "execution_count": 7,
   "id": "positive-somerset",
   "metadata": {},
   "outputs": [
    {
     "data": {
      "text/plain": [
       "(array([4], dtype=int64),)"
      ]
     },
     "execution_count": 7,
     "metadata": {},
     "output_type": "execute_result"
    }
   ],
   "source": [
    "y"
   ]
  },
  {
   "cell_type": "code",
   "execution_count": 8,
   "id": "dried-logistics",
   "metadata": {},
   "outputs": [],
   "source": [
    "ans = np.where(a%2 == 0)"
   ]
  },
  {
   "cell_type": "code",
   "execution_count": 9,
   "id": "incorporated-speaking",
   "metadata": {},
   "outputs": [
    {
     "data": {
      "text/plain": [
       "(array([1, 4, 6, 8, 9], dtype=int64),)"
      ]
     },
     "execution_count": 9,
     "metadata": {},
     "output_type": "execute_result"
    }
   ],
   "source": [
    "ans"
   ]
  },
  {
   "cell_type": "code",
   "execution_count": 10,
   "id": "improving-compensation",
   "metadata": {},
   "outputs": [
    {
     "data": {
      "text/plain": [
       "array([ 1,  1,  2,  3,  3,  4,  5,  5,  8, 10, 20])"
      ]
     },
     "execution_count": 10,
     "metadata": {},
     "output_type": "execute_result"
    }
   ],
   "source": [
    "np.sort(a)"
   ]
  },
  {
   "cell_type": "code",
   "execution_count": 11,
   "id": "charged-population",
   "metadata": {},
   "outputs": [],
   "source": [
    "a2 = np.array([44,12,90,76,55])"
   ]
  },
  {
   "cell_type": "code",
   "execution_count": 12,
   "id": "freelance-humanitarian",
   "metadata": {},
   "outputs": [
    {
     "data": {
      "text/plain": [
       "array([12, 44, 55, 76, 90])"
      ]
     },
     "execution_count": 12,
     "metadata": {},
     "output_type": "execute_result"
    }
   ],
   "source": [
    "np.sort(a2)"
   ]
  },
  {
   "cell_type": "code",
   "execution_count": 13,
   "id": "material-match",
   "metadata": {},
   "outputs": [],
   "source": [
    "a3 = np.array([\"mango\",\"papaya\",\"apple\",\"orange\"])"
   ]
  },
  {
   "cell_type": "code",
   "execution_count": 14,
   "id": "handled-sussex",
   "metadata": {},
   "outputs": [
    {
     "data": {
      "text/plain": [
       "array(['apple', 'mango', 'orange', 'papaya'], dtype='<U6')"
      ]
     },
     "execution_count": 14,
     "metadata": {},
     "output_type": "execute_result"
    }
   ],
   "source": [
    "np.sort(a3)"
   ]
  },
  {
   "cell_type": "code",
   "execution_count": null,
   "id": "stuck-agreement",
   "metadata": {},
   "outputs": [],
   "source": []
  }
 ],
 "metadata": {
  "kernelspec": {
   "display_name": "Python 3",
   "language": "python",
   "name": "python3"
  },
  "language_info": {
   "codemirror_mode": {
    "name": "ipython",
    "version": 3
   },
   "file_extension": ".py",
   "mimetype": "text/x-python",
   "name": "python",
   "nbconvert_exporter": "python",
   "pygments_lexer": "ipython3",
   "version": "3.9.1"
  }
 },
 "nbformat": 4,
 "nbformat_minor": 5
}
